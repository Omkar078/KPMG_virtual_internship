{
 "cells": [
  {
   "cell_type": "code",
   "execution_count": 1,
   "id": "bb0f9980",
   "metadata": {},
   "outputs": [],
   "source": [
    "import pandas as pd\n",
    "import numpy as np\n",
    "import re"
   ]
  },
  {
   "cell_type": "code",
   "execution_count": 2,
   "id": "784c0cdb",
   "metadata": {},
   "outputs": [],
   "source": [
    "df1 = pd.read_csv(r'C:/Users/OMKAR/Desktop/Practice/KPMG/Uncleaned/CustomersDemographics.csv')\n",
    "df2 = pd.read_csv(r'C:/Users/OMKAR/Desktop/Practice/KPMG/Uncleaned/CustomersAddress.csv')\n",
    "df3 = pd.read_csv(r'C:/Users/OMKAR/Desktop/Practice/KPMG/Uncleaned/NewCustomersList.csv')"
   ]
  },
  {
   "cell_type": "code",
   "execution_count": 3,
   "id": "d81a42ca",
   "metadata": {},
   "outputs": [
    {
     "data": {
      "text/html": [
       "<div>\n",
       "<style scoped>\n",
       "    .dataframe tbody tr th:only-of-type {\n",
       "        vertical-align: middle;\n",
       "    }\n",
       "\n",
       "    .dataframe tbody tr th {\n",
       "        vertical-align: top;\n",
       "    }\n",
       "\n",
       "    .dataframe thead th {\n",
       "        text-align: right;\n",
       "    }\n",
       "</style>\n",
       "<table border=\"1\" class=\"dataframe\">\n",
       "  <thead>\n",
       "    <tr style=\"text-align: right;\">\n",
       "      <th></th>\n",
       "      <th>customer_id</th>\n",
       "      <th>first_name</th>\n",
       "      <th>last_name</th>\n",
       "      <th>gender</th>\n",
       "      <th>past_3_years_bike_related_purchases</th>\n",
       "      <th>DOB</th>\n",
       "      <th>job_title</th>\n",
       "      <th>job_industry_category</th>\n",
       "      <th>wealth_segment</th>\n",
       "      <th>deceased_indicator</th>\n",
       "      <th>default</th>\n",
       "      <th>owns_car</th>\n",
       "      <th>tenure</th>\n",
       "    </tr>\n",
       "  </thead>\n",
       "  <tbody>\n",
       "    <tr>\n",
       "      <th>0</th>\n",
       "      <td>1</td>\n",
       "      <td>Laraine</td>\n",
       "      <td>Medendorp</td>\n",
       "      <td>F</td>\n",
       "      <td>93</td>\n",
       "      <td>12-10-1953</td>\n",
       "      <td>Executive Secretary</td>\n",
       "      <td>Health</td>\n",
       "      <td>Mass Customer</td>\n",
       "      <td>N</td>\n",
       "      <td>\"'</td>\n",
       "      <td>Yes</td>\n",
       "      <td>11.0</td>\n",
       "    </tr>\n",
       "    <tr>\n",
       "      <th>1</th>\n",
       "      <td>2</td>\n",
       "      <td>Eli</td>\n",
       "      <td>Bockman</td>\n",
       "      <td>Male</td>\n",
       "      <td>81</td>\n",
       "      <td>16-12-1980</td>\n",
       "      <td>Administrative Officer</td>\n",
       "      <td>Financial Services</td>\n",
       "      <td>Mass Customer</td>\n",
       "      <td>N</td>\n",
       "      <td>&lt;script&gt;alert('hi')&lt;/script&gt;</td>\n",
       "      <td>Yes</td>\n",
       "      <td>16.0</td>\n",
       "    </tr>\n",
       "    <tr>\n",
       "      <th>2</th>\n",
       "      <td>3</td>\n",
       "      <td>Arlin</td>\n",
       "      <td>Dearle</td>\n",
       "      <td>Male</td>\n",
       "      <td>61</td>\n",
       "      <td>20-01-1954</td>\n",
       "      <td>Recruiting Manager</td>\n",
       "      <td>Property</td>\n",
       "      <td>Mass Customer</td>\n",
       "      <td>N</td>\n",
       "      <td>01-Feb</td>\n",
       "      <td>Yes</td>\n",
       "      <td>15.0</td>\n",
       "    </tr>\n",
       "    <tr>\n",
       "      <th>3</th>\n",
       "      <td>4</td>\n",
       "      <td>Talbot</td>\n",
       "      <td>NaN</td>\n",
       "      <td>Male</td>\n",
       "      <td>33</td>\n",
       "      <td>03-10-1961</td>\n",
       "      <td>NaN</td>\n",
       "      <td>IT</td>\n",
       "      <td>Mass Customer</td>\n",
       "      <td>N</td>\n",
       "      <td>() { _; } &gt;_[$($())] { touch /tmp/blns.shellsh...</td>\n",
       "      <td>No</td>\n",
       "      <td>7.0</td>\n",
       "    </tr>\n",
       "    <tr>\n",
       "      <th>4</th>\n",
       "      <td>5</td>\n",
       "      <td>Sheila-kathryn</td>\n",
       "      <td>Calton</td>\n",
       "      <td>Female</td>\n",
       "      <td>56</td>\n",
       "      <td>13-05-1977</td>\n",
       "      <td>Senior Editor</td>\n",
       "      <td>NaN</td>\n",
       "      <td>Affluent Customer</td>\n",
       "      <td>N</td>\n",
       "      <td>NIL</td>\n",
       "      <td>Yes</td>\n",
       "      <td>8.0</td>\n",
       "    </tr>\n",
       "  </tbody>\n",
       "</table>\n",
       "</div>"
      ],
      "text/plain": [
       "   customer_id      first_name  last_name  gender  \\\n",
       "0            1         Laraine  Medendorp       F   \n",
       "1            2             Eli    Bockman    Male   \n",
       "2            3           Arlin     Dearle    Male   \n",
       "3            4          Talbot        NaN    Male   \n",
       "4            5  Sheila-kathryn     Calton  Female   \n",
       "\n",
       "   past_3_years_bike_related_purchases         DOB               job_title  \\\n",
       "0                                   93  12-10-1953     Executive Secretary   \n",
       "1                                   81  16-12-1980  Administrative Officer   \n",
       "2                                   61  20-01-1954      Recruiting Manager   \n",
       "3                                   33  03-10-1961                     NaN   \n",
       "4                                   56  13-05-1977           Senior Editor   \n",
       "\n",
       "  job_industry_category     wealth_segment deceased_indicator  \\\n",
       "0                Health      Mass Customer                  N   \n",
       "1    Financial Services      Mass Customer                  N   \n",
       "2              Property      Mass Customer                  N   \n",
       "3                    IT      Mass Customer                  N   \n",
       "4                   NaN  Affluent Customer                  N   \n",
       "\n",
       "                                             default owns_car  tenure  \n",
       "0                                                 \"'      Yes    11.0  \n",
       "1                       <script>alert('hi')</script>      Yes    16.0  \n",
       "2                                             01-Feb      Yes    15.0  \n",
       "3  () { _; } >_[$($())] { touch /tmp/blns.shellsh...       No     7.0  \n",
       "4                                                NIL      Yes     8.0  "
      ]
     },
     "execution_count": 3,
     "metadata": {},
     "output_type": "execute_result"
    }
   ],
   "source": [
    "df1.head()"
   ]
  },
  {
   "cell_type": "code",
   "execution_count": 4,
   "id": "34abe324",
   "metadata": {},
   "outputs": [
    {
     "data": {
      "text/html": [
       "<div>\n",
       "<style scoped>\n",
       "    .dataframe tbody tr th:only-of-type {\n",
       "        vertical-align: middle;\n",
       "    }\n",
       "\n",
       "    .dataframe tbody tr th {\n",
       "        vertical-align: top;\n",
       "    }\n",
       "\n",
       "    .dataframe thead th {\n",
       "        text-align: right;\n",
       "    }\n",
       "</style>\n",
       "<table border=\"1\" class=\"dataframe\">\n",
       "  <thead>\n",
       "    <tr style=\"text-align: right;\">\n",
       "      <th></th>\n",
       "      <th>customer_id</th>\n",
       "      <th>address</th>\n",
       "      <th>postcode</th>\n",
       "      <th>state</th>\n",
       "      <th>country</th>\n",
       "      <th>property_valuation</th>\n",
       "    </tr>\n",
       "  </thead>\n",
       "  <tbody>\n",
       "    <tr>\n",
       "      <th>0</th>\n",
       "      <td>1</td>\n",
       "      <td>060 Morning Avenue</td>\n",
       "      <td>2016</td>\n",
       "      <td>New South Wales</td>\n",
       "      <td>Australia</td>\n",
       "      <td>10</td>\n",
       "    </tr>\n",
       "    <tr>\n",
       "      <th>1</th>\n",
       "      <td>2</td>\n",
       "      <td>6 Meadow Vale Court</td>\n",
       "      <td>2153</td>\n",
       "      <td>New South Wales</td>\n",
       "      <td>Australia</td>\n",
       "      <td>10</td>\n",
       "    </tr>\n",
       "    <tr>\n",
       "      <th>2</th>\n",
       "      <td>4</td>\n",
       "      <td>0 Holy Cross Court</td>\n",
       "      <td>4211</td>\n",
       "      <td>QLD</td>\n",
       "      <td>Australia</td>\n",
       "      <td>9</td>\n",
       "    </tr>\n",
       "    <tr>\n",
       "      <th>3</th>\n",
       "      <td>5</td>\n",
       "      <td>17979 Del Mar Point</td>\n",
       "      <td>2448</td>\n",
       "      <td>New South Wales</td>\n",
       "      <td>Australia</td>\n",
       "      <td>4</td>\n",
       "    </tr>\n",
       "    <tr>\n",
       "      <th>4</th>\n",
       "      <td>6</td>\n",
       "      <td>9 Oakridge Court</td>\n",
       "      <td>3216</td>\n",
       "      <td>VIC</td>\n",
       "      <td>Australia</td>\n",
       "      <td>9</td>\n",
       "    </tr>\n",
       "  </tbody>\n",
       "</table>\n",
       "</div>"
      ],
      "text/plain": [
       "   customer_id              address  postcode            state    country  \\\n",
       "0            1   060 Morning Avenue      2016  New South Wales  Australia   \n",
       "1            2  6 Meadow Vale Court      2153  New South Wales  Australia   \n",
       "2            4   0 Holy Cross Court      4211              QLD  Australia   \n",
       "3            5  17979 Del Mar Point      2448  New South Wales  Australia   \n",
       "4            6     9 Oakridge Court      3216              VIC  Australia   \n",
       "\n",
       "   property_valuation  \n",
       "0                  10  \n",
       "1                  10  \n",
       "2                   9  \n",
       "3                   4  \n",
       "4                   9  "
      ]
     },
     "execution_count": 4,
     "metadata": {},
     "output_type": "execute_result"
    }
   ],
   "source": [
    "df2.head()"
   ]
  },
  {
   "cell_type": "markdown",
   "id": "0a6cbe3b",
   "metadata": {},
   "source": [
    "### Exploring Customer Demographics table"
   ]
  },
  {
   "cell_type": "code",
   "execution_count": 5,
   "id": "ccb9bd5f",
   "metadata": {},
   "outputs": [
    {
     "name": "stdout",
     "output_type": "stream",
     "text": [
      "<class 'pandas.core.frame.DataFrame'>\n",
      "RangeIndex: 4000 entries, 0 to 3999\n",
      "Data columns (total 13 columns):\n",
      " #   Column                               Non-Null Count  Dtype  \n",
      "---  ------                               --------------  -----  \n",
      " 0   customer_id                          4000 non-null   int64  \n",
      " 1   first_name                           4000 non-null   object \n",
      " 2   last_name                            3875 non-null   object \n",
      " 3   gender                               4000 non-null   object \n",
      " 4   past_3_years_bike_related_purchases  4000 non-null   int64  \n",
      " 5   DOB                                  3913 non-null   object \n",
      " 6   job_title                            3494 non-null   object \n",
      " 7   job_industry_category                3344 non-null   object \n",
      " 8   wealth_segment                       4000 non-null   object \n",
      " 9   deceased_indicator                   4000 non-null   object \n",
      " 10  default                              3698 non-null   object \n",
      " 11  owns_car                             4000 non-null   object \n",
      " 12  tenure                               3913 non-null   float64\n",
      "dtypes: float64(1), int64(2), object(10)\n",
      "memory usage: 406.4+ KB\n"
     ]
    }
   ],
   "source": [
    "df1.info()"
   ]
  },
  {
   "cell_type": "code",
   "execution_count": 6,
   "id": "f44d0830",
   "metadata": {},
   "outputs": [
    {
     "data": {
      "text/plain": [
       "customer_id                              0\n",
       "first_name                               0\n",
       "last_name                              125\n",
       "gender                                   0\n",
       "past_3_years_bike_related_purchases      0\n",
       "DOB                                     87\n",
       "job_title                              506\n",
       "job_industry_category                  656\n",
       "wealth_segment                           0\n",
       "deceased_indicator                       0\n",
       "default                                302\n",
       "owns_car                                 0\n",
       "tenure                                  87\n",
       "dtype: int64"
      ]
     },
     "execution_count": 6,
     "metadata": {},
     "output_type": "execute_result"
    }
   ],
   "source": [
    "##checking for null values\n",
    "df1.isnull().sum()"
   ]
  },
  {
   "cell_type": "code",
   "execution_count": 7,
   "id": "3d9adc43",
   "metadata": {},
   "outputs": [
    {
     "data": {
      "text/plain": [
       "0"
      ]
     },
     "execution_count": 7,
     "metadata": {},
     "output_type": "execute_result"
    }
   ],
   "source": [
    "##checking for duplicate values\n",
    "df1.duplicated().sum()"
   ]
  },
  {
   "cell_type": "code",
   "execution_count": 8,
   "id": "f278cb1d",
   "metadata": {},
   "outputs": [
    {
     "data": {
      "text/plain": [
       "customer_id                            4000\n",
       "first_name                             3139\n",
       "last_name                              3725\n",
       "gender                                    6\n",
       "past_3_years_bike_related_purchases     100\n",
       "DOB                                    3448\n",
       "job_title                               195\n",
       "job_industry_category                     9\n",
       "wealth_segment                            3\n",
       "deceased_indicator                        2\n",
       "default                                 101\n",
       "owns_car                                  2\n",
       "tenure                                   22\n",
       "dtype: int64"
      ]
     },
     "execution_count": 8,
     "metadata": {},
     "output_type": "execute_result"
    }
   ],
   "source": [
    "##checking for unique values\n",
    "df1.nunique()"
   ]
  },
  {
   "cell_type": "markdown",
   "id": "c4d32eaa",
   "metadata": {},
   "source": [
    "### Exploring CustomerDemographics columns"
   ]
  },
  {
   "cell_type": "code",
   "execution_count": 9,
   "id": "a5203de8",
   "metadata": {},
   "outputs": [
    {
     "data": {
      "text/plain": [
       "Index(['customer_id', 'first_name', 'last_name', 'gender',\n",
       "       'past_3_years_bike_related_purchases', 'DOB', 'job_title',\n",
       "       'job_industry_category', 'wealth_segment', 'deceased_indicator',\n",
       "       'default', 'owns_car', 'tenure'],\n",
       "      dtype='object')"
      ]
     },
     "execution_count": 9,
     "metadata": {},
     "output_type": "execute_result"
    }
   ],
   "source": [
    "df1.columns"
   ]
  },
  {
   "cell_type": "code",
   "execution_count": 10,
   "id": "b07a7be1",
   "metadata": {},
   "outputs": [],
   "source": [
    "df1['last_name'] = df1['last_name'].fillna('not recorded')"
   ]
  },
  {
   "cell_type": "code",
   "execution_count": 11,
   "id": "02299426",
   "metadata": {},
   "outputs": [
    {
     "data": {
      "text/plain": [
       "Female    2037\n",
       "Male      1872\n",
       "U           88\n",
       "F            1\n",
       "Femal        1\n",
       "M            1\n",
       "Name: gender, dtype: int64"
      ]
     },
     "execution_count": 11,
     "metadata": {},
     "output_type": "execute_result"
    }
   ],
   "source": [
    "df1['gender'].value_counts()\n"
   ]
  },
  {
   "cell_type": "code",
   "execution_count": 12,
   "id": "e12ea5a7",
   "metadata": {},
   "outputs": [],
   "source": [
    "## replacing irrelevant Gender values into common values\n",
    "df1['gender'] = df1['gender'].replace('F', 'Female').replace('Femal','Female').replace('M','Male').replace('U','Unspecified')"
   ]
  },
  {
   "cell_type": "code",
   "execution_count": 13,
   "id": "7a5030a2",
   "metadata": {},
   "outputs": [
    {
     "data": {
      "text/plain": [
       "Female         2039\n",
       "Male           1873\n",
       "Unspecified      88\n",
       "Name: gender, dtype: int64"
      ]
     },
     "execution_count": 13,
     "metadata": {},
     "output_type": "execute_result"
    }
   ],
   "source": [
    "df1['gender'].value_counts()"
   ]
  },
  {
   "cell_type": "code",
   "execution_count": 14,
   "id": "9a49f914",
   "metadata": {},
   "outputs": [
    {
     "data": {
      "text/plain": [
       "0       93\n",
       "1       81\n",
       "2       61\n",
       "3       33\n",
       "4       56\n",
       "        ..\n",
       "3995     8\n",
       "3996    87\n",
       "3997    60\n",
       "3998    11\n",
       "3999    76\n",
       "Name: past_3_years_bike_related_purchases, Length: 4000, dtype: int64"
      ]
     },
     "execution_count": 14,
     "metadata": {},
     "output_type": "execute_result"
    }
   ],
   "source": [
    "\n",
    "df1['past_3_years_bike_related_purchases']"
   ]
  },
  {
   "cell_type": "code",
   "execution_count": 15,
   "id": "a6e682c8",
   "metadata": {},
   "outputs": [
    {
     "data": {
      "text/plain": [
       "87"
      ]
     },
     "execution_count": 15,
     "metadata": {},
     "output_type": "execute_result"
    }
   ],
   "source": [
    "df1['DOB'].isnull().sum()"
   ]
  },
  {
   "cell_type": "code",
   "execution_count": 16,
   "id": "7e31c120",
   "metadata": {},
   "outputs": [],
   "source": [
    "### Converting Object Datatype to Datetime Datatype\n",
    "df1['DOB'] = pd.to_datetime(df1['DOB'])"
   ]
  },
  {
   "cell_type": "code",
   "execution_count": 17,
   "id": "90934f63",
   "metadata": {},
   "outputs": [],
   "source": [
    "### Filling null values with relevant values\n",
    "df1['DOB'] = df1['DOB'].fillna('not recorded')"
   ]
  },
  {
   "cell_type": "code",
   "execution_count": 18,
   "id": "d8592345",
   "metadata": {},
   "outputs": [
    {
     "data": {
      "text/plain": [
       "not recorded           87\n",
       "1978-01-30 00:00:00     7\n",
       "1962-12-17 00:00:00     4\n",
       "1977-05-13 00:00:00     4\n",
       "1976-07-16 00:00:00     4\n",
       "                       ..\n",
       "1989-06-16 00:00:00     1\n",
       "1998-09-30 00:00:00     1\n",
       "1985-11-03 00:00:00     1\n",
       "1989-10-23 00:00:00     1\n",
       "1991-05-11 00:00:00     1\n",
       "Name: DOB, Length: 3449, dtype: int64"
      ]
     },
     "execution_count": 18,
     "metadata": {},
     "output_type": "execute_result"
    }
   ],
   "source": [
    "df1['DOB'].value_counts()"
   ]
  },
  {
   "cell_type": "code",
   "execution_count": 19,
   "id": "4a13dad9",
   "metadata": {},
   "outputs": [
    {
     "data": {
      "text/plain": [
       "Business Systems Development Analyst    45\n",
       "Tax Accountant                          44\n",
       "Social Worker                           44\n",
       "Internal Auditor                        42\n",
       "Recruiting Manager                      41\n",
       "                                        ..\n",
       "Database Administrator I                 4\n",
       "Health Coach I                           3\n",
       "Health Coach III                         3\n",
       "Research Assistant III                   3\n",
       "Developer I                              1\n",
       "Name: job_title, Length: 195, dtype: int64"
      ]
     },
     "execution_count": 19,
     "metadata": {},
     "output_type": "execute_result"
    }
   ],
   "source": [
    "df1['job_title'].value_counts()"
   ]
  },
  {
   "cell_type": "code",
   "execution_count": 20,
   "id": "e5feb3a4",
   "metadata": {},
   "outputs": [],
   "source": [
    "## Changing datatype \n",
    "df1['job_title'] = df1['job_title'].astype('object')"
   ]
  },
  {
   "cell_type": "code",
   "execution_count": 21,
   "id": "b94c1a5b",
   "metadata": {},
   "outputs": [
    {
     "data": {
      "text/plain": [
       "0          Executive Secretary\n",
       "1       Administrative Officer\n",
       "2           Recruiting Manager\n",
       "3                          NaN\n",
       "4                Senior Editor\n",
       "                 ...          \n",
       "3995     VP Product Management\n",
       "3996           Statistician II\n",
       "3997         Assistant Manager\n",
       "3998                       NaN\n",
       "3999      Software Engineer IV\n",
       "Name: job_title, Length: 4000, dtype: object"
      ]
     },
     "execution_count": 21,
     "metadata": {},
     "output_type": "execute_result"
    }
   ],
   "source": [
    "df1['job_title']"
   ]
  },
  {
   "cell_type": "code",
   "execution_count": 22,
   "id": "05c0b18b",
   "metadata": {},
   "outputs": [],
   "source": [
    "df1['job_title'] = df1['job_title'].fillna('not recorded')"
   ]
  },
  {
   "cell_type": "code",
   "execution_count": 23,
   "id": "1ddb6e4b",
   "metadata": {},
   "outputs": [
    {
     "data": {
      "text/plain": [
       "0                   Health\n",
       "1       Financial Services\n",
       "2                 Property\n",
       "3                       IT\n",
       "4                      NaN\n",
       "               ...        \n",
       "3995                Health\n",
       "3996         Manufacturing\n",
       "3997                    IT\n",
       "3998         Manufacturing\n",
       "3999                   NaN\n",
       "Name: job_industry_category, Length: 4000, dtype: object"
      ]
     },
     "execution_count": 23,
     "metadata": {},
     "output_type": "execute_result"
    }
   ],
   "source": [
    "df1['job_industry_category']"
   ]
  },
  {
   "cell_type": "code",
   "execution_count": 24,
   "id": "0181a761",
   "metadata": {},
   "outputs": [
    {
     "data": {
      "text/plain": [
       "Manufacturing         799\n",
       "Financial Services    774\n",
       "Health                602\n",
       "Retail                358\n",
       "Property              267\n",
       "IT                    223\n",
       "Entertainment         136\n",
       "Argiculture           113\n",
       "Telecommunications     72\n",
       "Name: job_industry_category, dtype: int64"
      ]
     },
     "execution_count": 24,
     "metadata": {},
     "output_type": "execute_result"
    }
   ],
   "source": [
    "df1['job_industry_category'].value_counts()"
   ]
  },
  {
   "cell_type": "code",
   "execution_count": 25,
   "id": "62323e70",
   "metadata": {},
   "outputs": [],
   "source": [
    "#Correcting typos\n",
    "df1['job_industry_category'] = df1['job_industry_category'].replace('Argiculture','Agriculture')"
   ]
  },
  {
   "cell_type": "code",
   "execution_count": 26,
   "id": "c72b31fe",
   "metadata": {},
   "outputs": [
    {
     "data": {
      "text/plain": [
       "Manufacturing         799\n",
       "Financial Services    774\n",
       "Health                602\n",
       "Retail                358\n",
       "Property              267\n",
       "IT                    223\n",
       "Entertainment         136\n",
       "Agriculture           113\n",
       "Telecommunications     72\n",
       "Name: job_industry_category, dtype: int64"
      ]
     },
     "execution_count": 26,
     "metadata": {},
     "output_type": "execute_result"
    }
   ],
   "source": [
    "df1['job_industry_category'].value_counts()"
   ]
  },
  {
   "cell_type": "code",
   "execution_count": 27,
   "id": "bc1c6589",
   "metadata": {},
   "outputs": [],
   "source": [
    "df1['job_industry_category'] = df1['job_industry_category'].fillna('not recorded')"
   ]
  },
  {
   "cell_type": "code",
   "execution_count": 28,
   "id": "a17c6d0c",
   "metadata": {},
   "outputs": [
    {
     "data": {
      "text/plain": [
       "0           Mass Customer\n",
       "1           Mass Customer\n",
       "2           Mass Customer\n",
       "3           Mass Customer\n",
       "4       Affluent Customer\n",
       "              ...        \n",
       "3995        Mass Customer\n",
       "3996       High Net Worth\n",
       "3997       High Net Worth\n",
       "3998    Affluent Customer\n",
       "3999    Affluent Customer\n",
       "Name: wealth_segment, Length: 4000, dtype: object"
      ]
     },
     "execution_count": 28,
     "metadata": {},
     "output_type": "execute_result"
    }
   ],
   "source": [
    "df1['wealth_segment']"
   ]
  },
  {
   "cell_type": "code",
   "execution_count": 29,
   "id": "aa3112d4",
   "metadata": {},
   "outputs": [
    {
     "data": {
      "text/plain": [
       "Mass Customer        2000\n",
       "High Net Worth       1021\n",
       "Affluent Customer     979\n",
       "Name: wealth_segment, dtype: int64"
      ]
     },
     "execution_count": 29,
     "metadata": {},
     "output_type": "execute_result"
    }
   ],
   "source": [
    "df1['wealth_segment'].value_counts()"
   ]
  },
  {
   "cell_type": "code",
   "execution_count": 30,
   "id": "6cd1bd65",
   "metadata": {},
   "outputs": [
    {
     "data": {
      "text/plain": [
       "0       N\n",
       "1       N\n",
       "2       N\n",
       "3       N\n",
       "4       N\n",
       "       ..\n",
       "3995    N\n",
       "3996    N\n",
       "3997    N\n",
       "3998    N\n",
       "3999    N\n",
       "Name: deceased_indicator, Length: 4000, dtype: object"
      ]
     },
     "execution_count": 30,
     "metadata": {},
     "output_type": "execute_result"
    }
   ],
   "source": [
    "df1['deceased_indicator']"
   ]
  },
  {
   "cell_type": "code",
   "execution_count": 31,
   "id": "bd1589e0",
   "metadata": {},
   "outputs": [
    {
     "data": {
      "text/plain": [
       "N    3998\n",
       "Y       2\n",
       "Name: deceased_indicator, dtype: int64"
      ]
     },
     "execution_count": 31,
     "metadata": {},
     "output_type": "execute_result"
    }
   ],
   "source": [
    "df1['deceased_indicator'].value_counts()"
   ]
  },
  {
   "cell_type": "code",
   "execution_count": 32,
   "id": "f8a46985",
   "metadata": {},
   "outputs": [],
   "source": [
    "df1['deceased_indicator'] = df1['deceased_indicator'].replace('N','Non Deceased').replace('Y','Deceased') "
   ]
  },
  {
   "cell_type": "code",
   "execution_count": 33,
   "id": "6ceb5f3b",
   "metadata": {},
   "outputs": [
    {
     "data": {
      "text/plain": [
       "Non Deceased    3998\n",
       "Deceased           2\n",
       "Name: deceased_indicator, dtype: int64"
      ]
     },
     "execution_count": 33,
     "metadata": {},
     "output_type": "execute_result"
    }
   ],
   "source": [
    "df1['deceased_indicator'].value_counts()"
   ]
  },
  {
   "cell_type": "code",
   "execution_count": 34,
   "id": "c01b1288",
   "metadata": {},
   "outputs": [
    {
     "data": {
      "text/plain": [
       "0                                                      \"'\n",
       "1                            <script>alert('hi')</script>\n",
       "2                                                  01-Feb\n",
       "3       () { _; } >_[$($())] { touch /tmp/blns.shellsh...\n",
       "4                                                     NIL\n",
       "                              ...                        \n",
       "3995                                            -1.00E+02\n",
       "3996                                             â¦testâ§\n",
       "3997                                                  NaN\n",
       "3998                               Â¡â¢Â£Â¢âÂ§Â¶â¢ÂªÂºââ \n",
       "3999                                                  0/0\n",
       "Name: default, Length: 4000, dtype: object"
      ]
     },
     "execution_count": 34,
     "metadata": {},
     "output_type": "execute_result"
    }
   ],
   "source": [
    "df1['default']"
   ]
  },
  {
   "cell_type": "code",
   "execution_count": 35,
   "id": "6753f218",
   "metadata": {},
   "outputs": [],
   "source": [
    "##droping default column\n",
    "df1.drop('default', axis = 1, inplace = True)"
   ]
  },
  {
   "cell_type": "code",
   "execution_count": 36,
   "id": "1dda5a44",
   "metadata": {},
   "outputs": [
    {
     "data": {
      "text/plain": [
       "0       Yes\n",
       "1       Yes\n",
       "2       Yes\n",
       "3        No\n",
       "4       Yes\n",
       "       ... \n",
       "3995     No\n",
       "3996    Yes\n",
       "3997     No\n",
       "3998    Yes\n",
       "3999     No\n",
       "Name: owns_car, Length: 4000, dtype: object"
      ]
     },
     "execution_count": 36,
     "metadata": {},
     "output_type": "execute_result"
    }
   ],
   "source": [
    "df1['owns_car']"
   ]
  },
  {
   "cell_type": "code",
   "execution_count": 37,
   "id": "c30ed1e1",
   "metadata": {},
   "outputs": [
    {
     "data": {
      "text/plain": [
       "Yes    2024\n",
       "No     1976\n",
       "Name: owns_car, dtype: int64"
      ]
     },
     "execution_count": 37,
     "metadata": {},
     "output_type": "execute_result"
    }
   ],
   "source": [
    "df1['owns_car'].value_counts()"
   ]
  },
  {
   "cell_type": "code",
   "execution_count": 38,
   "id": "a505c168",
   "metadata": {},
   "outputs": [
    {
     "data": {
      "text/plain": [
       "0       11.0\n",
       "1       16.0\n",
       "2       15.0\n",
       "3        7.0\n",
       "4        8.0\n",
       "        ... \n",
       "3995    19.0\n",
       "3996     1.0\n",
       "3997     NaN\n",
       "3998    10.0\n",
       "3999    11.0\n",
       "Name: tenure, Length: 4000, dtype: float64"
      ]
     },
     "execution_count": 38,
     "metadata": {},
     "output_type": "execute_result"
    }
   ],
   "source": [
    "df1['tenure']"
   ]
  },
  {
   "cell_type": "code",
   "execution_count": 39,
   "id": "d6c4e0be",
   "metadata": {},
   "outputs": [
    {
     "data": {
      "text/plain": [
       "87"
      ]
     },
     "execution_count": 39,
     "metadata": {},
     "output_type": "execute_result"
    }
   ],
   "source": [
    "df1['tenure'].isnull().sum()"
   ]
  },
  {
   "cell_type": "code",
   "execution_count": 40,
   "id": "afb46e50",
   "metadata": {},
   "outputs": [
    {
     "data": {
      "text/plain": [
       "7.0     235\n",
       "5.0     228\n",
       "11.0    221\n",
       "10.0    218\n",
       "16.0    215\n",
       "8.0     211\n",
       "18.0    208\n",
       "12.0    202\n",
       "9.0     200\n",
       "14.0    200\n",
       "6.0     192\n",
       "13.0    191\n",
       "4.0     191\n",
       "17.0    182\n",
       "15.0    179\n",
       "1.0     166\n",
       "3.0     160\n",
       "19.0    159\n",
       "2.0     150\n",
       "20.0     96\n",
       "22.0     55\n",
       "21.0     54\n",
       "Name: tenure, dtype: int64"
      ]
     },
     "execution_count": 40,
     "metadata": {},
     "output_type": "execute_result"
    }
   ],
   "source": [
    "df1['tenure'].value_counts()"
   ]
  },
  {
   "cell_type": "code",
   "execution_count": 41,
   "id": "afd472ed",
   "metadata": {},
   "outputs": [],
   "source": [
    "## deleting an entry with wrong DOB\n",
    "df1 = df1[df1.customer_id != 34]"
   ]
  },
  {
   "cell_type": "code",
   "execution_count": 42,
   "id": "6c01df38",
   "metadata": {},
   "outputs": [],
   "source": [
    "df1.to_csv('C:/Users/OMKAR/Desktop/Practice/KPMG/Cleaned/CustomerDemographics.csv', index = False)"
   ]
  },
  {
   "cell_type": "markdown",
   "id": "f6babf49",
   "metadata": {},
   "source": [
    "## Exploring CustomersAddress table"
   ]
  },
  {
   "cell_type": "code",
   "execution_count": 43,
   "id": "014deb1c",
   "metadata": {},
   "outputs": [
    {
     "data": {
      "text/html": [
       "<div>\n",
       "<style scoped>\n",
       "    .dataframe tbody tr th:only-of-type {\n",
       "        vertical-align: middle;\n",
       "    }\n",
       "\n",
       "    .dataframe tbody tr th {\n",
       "        vertical-align: top;\n",
       "    }\n",
       "\n",
       "    .dataframe thead th {\n",
       "        text-align: right;\n",
       "    }\n",
       "</style>\n",
       "<table border=\"1\" class=\"dataframe\">\n",
       "  <thead>\n",
       "    <tr style=\"text-align: right;\">\n",
       "      <th></th>\n",
       "      <th>customer_id</th>\n",
       "      <th>address</th>\n",
       "      <th>postcode</th>\n",
       "      <th>state</th>\n",
       "      <th>country</th>\n",
       "      <th>property_valuation</th>\n",
       "    </tr>\n",
       "  </thead>\n",
       "  <tbody>\n",
       "    <tr>\n",
       "      <th>0</th>\n",
       "      <td>1</td>\n",
       "      <td>060 Morning Avenue</td>\n",
       "      <td>2016</td>\n",
       "      <td>New South Wales</td>\n",
       "      <td>Australia</td>\n",
       "      <td>10</td>\n",
       "    </tr>\n",
       "    <tr>\n",
       "      <th>1</th>\n",
       "      <td>2</td>\n",
       "      <td>6 Meadow Vale Court</td>\n",
       "      <td>2153</td>\n",
       "      <td>New South Wales</td>\n",
       "      <td>Australia</td>\n",
       "      <td>10</td>\n",
       "    </tr>\n",
       "    <tr>\n",
       "      <th>2</th>\n",
       "      <td>4</td>\n",
       "      <td>0 Holy Cross Court</td>\n",
       "      <td>4211</td>\n",
       "      <td>QLD</td>\n",
       "      <td>Australia</td>\n",
       "      <td>9</td>\n",
       "    </tr>\n",
       "    <tr>\n",
       "      <th>3</th>\n",
       "      <td>5</td>\n",
       "      <td>17979 Del Mar Point</td>\n",
       "      <td>2448</td>\n",
       "      <td>New South Wales</td>\n",
       "      <td>Australia</td>\n",
       "      <td>4</td>\n",
       "    </tr>\n",
       "    <tr>\n",
       "      <th>4</th>\n",
       "      <td>6</td>\n",
       "      <td>9 Oakridge Court</td>\n",
       "      <td>3216</td>\n",
       "      <td>VIC</td>\n",
       "      <td>Australia</td>\n",
       "      <td>9</td>\n",
       "    </tr>\n",
       "  </tbody>\n",
       "</table>\n",
       "</div>"
      ],
      "text/plain": [
       "   customer_id              address  postcode            state    country  \\\n",
       "0            1   060 Morning Avenue      2016  New South Wales  Australia   \n",
       "1            2  6 Meadow Vale Court      2153  New South Wales  Australia   \n",
       "2            4   0 Holy Cross Court      4211              QLD  Australia   \n",
       "3            5  17979 Del Mar Point      2448  New South Wales  Australia   \n",
       "4            6     9 Oakridge Court      3216              VIC  Australia   \n",
       "\n",
       "   property_valuation  \n",
       "0                  10  \n",
       "1                  10  \n",
       "2                   9  \n",
       "3                   4  \n",
       "4                   9  "
      ]
     },
     "execution_count": 43,
     "metadata": {},
     "output_type": "execute_result"
    }
   ],
   "source": [
    "df2.head()"
   ]
  },
  {
   "cell_type": "code",
   "execution_count": 44,
   "id": "c3a89938",
   "metadata": {},
   "outputs": [
    {
     "name": "stdout",
     "output_type": "stream",
     "text": [
      "<class 'pandas.core.frame.DataFrame'>\n",
      "RangeIndex: 3999 entries, 0 to 3998\n",
      "Data columns (total 6 columns):\n",
      " #   Column              Non-Null Count  Dtype \n",
      "---  ------              --------------  ----- \n",
      " 0   customer_id         3999 non-null   int64 \n",
      " 1   address             3999 non-null   object\n",
      " 2   postcode            3999 non-null   int64 \n",
      " 3   state               3999 non-null   object\n",
      " 4   country             3999 non-null   object\n",
      " 5   property_valuation  3999 non-null   int64 \n",
      "dtypes: int64(3), object(3)\n",
      "memory usage: 187.6+ KB\n"
     ]
    }
   ],
   "source": [
    "df2.info()"
   ]
  },
  {
   "cell_type": "code",
   "execution_count": 45,
   "id": "93afa01f",
   "metadata": {},
   "outputs": [
    {
     "data": {
      "text/plain": [
       "customer_id           0\n",
       "address               0\n",
       "postcode              0\n",
       "state                 0\n",
       "country               0\n",
       "property_valuation    0\n",
       "dtype: int64"
      ]
     },
     "execution_count": 45,
     "metadata": {},
     "output_type": "execute_result"
    }
   ],
   "source": [
    "df2.isnull().sum()"
   ]
  },
  {
   "cell_type": "code",
   "execution_count": 46,
   "id": "4914bb70",
   "metadata": {},
   "outputs": [
    {
     "data": {
      "text/plain": [
       "0"
      ]
     },
     "execution_count": 46,
     "metadata": {},
     "output_type": "execute_result"
    }
   ],
   "source": [
    "## Checking for duplicate values\n",
    "df2.duplicated().sum()"
   ]
  },
  {
   "cell_type": "code",
   "execution_count": 47,
   "id": "7569d0a4",
   "metadata": {},
   "outputs": [
    {
     "data": {
      "text/plain": [
       "customer_id           3999\n",
       "address               3996\n",
       "postcode               873\n",
       "state                    5\n",
       "country                  1\n",
       "property_valuation      12\n",
       "dtype: int64"
      ]
     },
     "execution_count": 47,
     "metadata": {},
     "output_type": "execute_result"
    }
   ],
   "source": [
    "## Checking for unique values\n",
    "df2.nunique()"
   ]
  },
  {
   "cell_type": "markdown",
   "id": "8942213b",
   "metadata": {},
   "source": [
    "### Exploring Columns"
   ]
  },
  {
   "cell_type": "code",
   "execution_count": 48,
   "id": "e7a104c8",
   "metadata": {},
   "outputs": [
    {
     "data": {
      "text/plain": [
       "Index(['customer_id', 'address', 'postcode', 'state', 'country',\n",
       "       'property_valuation'],\n",
       "      dtype='object')"
      ]
     },
     "execution_count": 48,
     "metadata": {},
     "output_type": "execute_result"
    }
   ],
   "source": [
    "df2.columns"
   ]
  },
  {
   "cell_type": "code",
   "execution_count": 49,
   "id": "18ae7850",
   "metadata": {},
   "outputs": [
    {
     "data": {
      "text/plain": [
       "3 Mariners Cove Terrace      2\n",
       "3 Talisman Place             2\n",
       "64 Macpherson Junction       2\n",
       "359 Briar Crest Road         1\n",
       "4543 Service Terrace         1\n",
       "                            ..\n",
       "5063 Shopko Pass             1\n",
       "09 Hagan Pass                1\n",
       "87897 Lighthouse Bay Pass    1\n",
       "294 Lawn Junction            1\n",
       "320 Acker Drive              1\n",
       "Name: address, Length: 3996, dtype: int64"
      ]
     },
     "execution_count": 49,
     "metadata": {},
     "output_type": "execute_result"
    }
   ],
   "source": [
    "df2['address'].value_counts()"
   ]
  },
  {
   "cell_type": "code",
   "execution_count": 50,
   "id": "6045cf71",
   "metadata": {},
   "outputs": [
    {
     "data": {
      "text/plain": [
       "array([2016, 2153, 4211, 2448, 3216, 2210, 2650, 2023, 3044, 4557, 3799,\n",
       "       2760, 2428, 3331, 3058, 2135, 2233, 2444, 4413, 4740, 3218, 4868,\n",
       "       4116, 2519, 2756, 2170, 4005, 4127, 2535, 4726, 4805, 2212, 2207,\n",
       "       3350, 3931, 4018, 4670, 2480, 3212, 2322, 3198, 2047, 4503, 2145,\n",
       "       4350, 2142, 2029, 2127, 4280, 2166, 2046, 2026, 2765, 2749, 2745,\n",
       "       3752, 2217, 2230, 3046, 3183, 2070, 2213, 4208, 2774, 4133, 4213,\n",
       "       4170, 2073, 3561, 2330, 3977, 2204, 2086, 2226, 2075, 2038, 2069,\n",
       "       2100, 3133, 3070, 2777, 2125, 2766, 2209, 2160, 2065, 2150, 2168,\n",
       "       4171, 2155, 2517, 2096, 2750, 2093, 3204, 4300, 3844, 4226, 3192,\n",
       "       2485, 2097, 4817, 2516, 3074, 4508, 4405, 2452, 2205, 4132, 4744,\n",
       "       2158, 3201, 4178, 2112, 2033, 4401, 3186, 4017, 2315, 2285, 2219,\n",
       "       4509, 2759, 2747, 2227, 2025, 3191, 3025, 2263, 2154, 2119, 3016,\n",
       "       4113, 2032, 4352, 3020, 2116, 3057, 2099, 3749, 2148, 3145, 2021,\n",
       "       2333, 2783, 2280, 4120, 3638, 2074, 2880, 2430, 4560, 2088, 2220,\n",
       "       3031, 2250, 2261, 3196, 4680, 3143, 2063, 3021, 2138, 4811, 2085,\n",
       "       3084, 3170, 2066, 4078, 2222, 3152, 2159, 4655, 4220, 4012, 2015,\n",
       "       2776, 3011, 2761, 2502, 2110, 2566, 2506, 2508, 2036, 2018, 3666,\n",
       "       4514, 2525, 4152, 2200, 3023, 3500, 2283, 2102, 2040, 2304, 2340,\n",
       "       3580, 3355, 2287, 2324, 2323, 2320, 2346, 2031, 2064, 2176, 3195,\n",
       "       2010, 2768, 2752, 3802, 3071, 4735, 3081, 3205, 2165, 3125, 4214,\n",
       "       2030, 2767, 2798, 2117, 4551, 3064, 3810, 4151, 2830, 3030, 4812,\n",
       "       2141, 3029, 2173, 3199, 4506, 2035, 3340, 3182, 2450, 2216, 3796,\n",
       "       3197, 2232, 2365, 4701, 4210, 2223, 4122, 2515, 3437, 3338, 2203,\n",
       "       3356, 3223, 3032, 3105, 3101, 2763, 2089, 2126, 2147, 2251, 3127,\n",
       "       3087, 3131, 3134, 2193, 4055, 2530, 4217, 4020, 2179, 3130, 4570,\n",
       "       3215, 3165, 3936, 2265, 3034, 2062, 2162, 3033, 2144, 3805, 2642,\n",
       "       3228, 3444, 2076, 4124, 4305, 2579, 2835, 3337, 2536, 2770, 2646,\n",
       "       4558, 2211, 2570, 4552, 3082, 2360, 4223, 4370, 3150, 2549, 3040,\n",
       "       4209, 4173, 2068, 3806, 2259, 2260, 4074, 4215, 3008, 2748, 2567,\n",
       "       3015, 4221, 3121, 4870, 2118, 2050, 2120, 3812, 3111, 3012, 2197,\n",
       "       3162, 2037, 3141, 3178, 3564, 3550, 3775, 3004, 3185, 2447, 3910,\n",
       "       3621, 4702, 2133, 3075, 3911, 2487, 4123, 2151, 3156, 3126, 2027,\n",
       "       3124, 2564, 2049, 3690, 3282, 2576, 3108, 4165, 2218, 2190, 2337,\n",
       "       2307, 2121, 2716, 3168, 3076, 2478, 2560, 2087, 4505, 2630, 2225,\n",
       "       3013, 3136, 2111, 2106, 3930, 2291, 2305, 2300, 4179, 2539, 3207,\n",
       "       4340, 3137, 3068, 4580, 2041, 4504, 2306, 4075, 3975, 4114, 4341,\n",
       "       4022, 4820, 3028, 4035, 2326, 3429, 4218, 2380, 3171, 2565, 3850,\n",
       "       3807, 4800, 2577, 2199, 2134, 4053, 2800, 2048, 2194, 2557, 2548,\n",
       "       2262, 2463, 2481, 2072, 3155, 3095, 4207, 4110, 2017, 2769, 4562,\n",
       "       2571, 3480, 3551, 2753, 3093, 4615, 3174, 2192, 2290, 3073, 4810,\n",
       "       4121, 2229, 4118, 2594, 3750, 4019, 2540, 2293, 2143, 3630, 2164,\n",
       "       4869, 2137, 2354, 4814, 2282, 2292, 2171, 2077, 4873, 4006, 2754,\n",
       "       2152, 2067, 2122, 3976, 2000, 3175, 2156, 2228, 3187, 2680, 2527,\n",
       "       2163, 2336, 4415, 3139, 3147, 3623, 4356, 2034, 2196, 2177, 2234,\n",
       "       2537, 4720, 3765, 2486, 4511, 2795, 3188, 3730, 3060, 4131, 2518,\n",
       "       3158, 2477, 2195, 2575, 3400, 3037, 4507, 2113, 2443, 3177, 2641,\n",
       "       4212, 3241, 3428, 4227, 4034, 2558, 2460, 3173, 2289, 4500, 4825,\n",
       "       4161, 3757, 2871, 2146, 4380, 3024, 3934, 3109, 2136, 2484, 3225,\n",
       "       4068, 2214, 3809, 2454, 4556, 4573, 2131, 3184, 2619, 3138, 3441,\n",
       "       2101, 4510, 2647, 2731, 3284, 2573, 2206, 4815, 2526, 4502, 2710,\n",
       "       2090, 3038, 3142, 3442, 4064, 2529, 3039, 2061, 3644, 2104, 2044,\n",
       "       3043, 2873, 2541, 2321, 2079, 3072, 2007, 2620, 2231, 2580, 2020,\n",
       "       2852, 3677, 4818, 4519, 4806, 4610, 4512, 4306, 4304, 4301, 4205,\n",
       "       4051, 4130, 4115, 4164, 4128, 3940, 3939, 3840, 3804, 2582, 3747,\n",
       "       3620, 3151, 3380, 3280, 3224, 3222, 3226, 3190, 3169, 3163, 3161,\n",
       "       3791, 4119, 3140, 3818, 3106, 3099, 3754, 3756, 3061, 3048, 3036,\n",
       "       3107, 3022, 3049, 2870, 2762, 2794, 2773, 2640, 2439, 2528, 2440,\n",
       "       2325, 2161, 2848, 4878, 2775, 2224, 3219, 2441, 4877, 3264, 2681,\n",
       "       3018, 2043, 2107, 4567, 4011, 2221, 2028, 3941, 3146, 3585, 4105,\n",
       "       2094, 2284, 3808, 3149, 3114, 3352, 3129, 4154, 2114, 4721, 2011,\n",
       "       4157, 4799, 2095, 3103, 4224, 4344, 2009, 3144, 3181, 2665, 2474,\n",
       "       3166, 2820, 4059, 4160, 3189, 4030, 2042, 4032, 4103, 2868, 2358,\n",
       "       2449, 2299, 4014, 3056, 2281, 4007, 2318, 3821, 4109, 4216, 2470,\n",
       "       2563, 2264, 2445, 4060, 3214, 4077, 2327, 4104, 3172, 2505, 2115,\n",
       "       2469, 2705, 3088, 3966, 3912, 2446, 2810, 4061, 3083, 3915, 4153,\n",
       "       2267, 3458, 4421, 3505, 3006, 4037, 3918, 2335, 3079, 2400, 3148,\n",
       "       2092, 2714, 3555, 2008, 3631, 4228, 4101, 2022, 4568, 3115, 4343,\n",
       "       3116, 2208, 4125, 4070, 3194, 2533, 2758, 4159, 4879, 2500, 2298,\n",
       "       2178, 3240, 2671, 4455, 4650, 3160, 3250, 3342, 3523, 2350, 2785,\n",
       "       3995, 3351, 3000, 2462, 3041, 3260, 2534, 4565, 3618, 2780, 2167,\n",
       "       3279, 4106, 4700, 2799, 4564, 4860, 3922, 2256, 4031, 2779, 4660,\n",
       "       4073, 3067, 2843, 3027, 3066, 2572, 2128, 4054, 4069, 2343, 3377,\n",
       "       3065, 2295, 4270, 2316, 3179, 3933, 4883, 2081, 2471, 3053, 4285,\n",
       "       2546, 4275, 3132, 3042, 3085, 2071, 2821, 4390, 3793, 3128, 2869,\n",
       "       3616, 4750, 3059, 3153, 2130, 3213, 3862, 3610, 4102, 2060, 3786,\n",
       "       2019, 2191, 2713, 3094, 3122, 2850, 4272, 3051, 3634, 3803, 4515,\n",
       "       2700, 3123, 2294, 3978, 3305, 2198, 2778, 4730, 4155, 4000, 4225,\n",
       "       3556, 4575, 4715, 2429, 4555, 2132, 2045, 2024, 4076, 3321, 3193,\n",
       "       2390, 2806, 2257, 4172, 3078, 3104, 3860, 2658, 3052, 4163, 2590,\n",
       "       2550, 2877, 4311, 3089], dtype=int64)"
      ]
     },
     "execution_count": 50,
     "metadata": {},
     "output_type": "execute_result"
    }
   ],
   "source": [
    "df2['postcode'].unique()"
   ]
  },
  {
   "cell_type": "code",
   "execution_count": 51,
   "id": "cfb07959",
   "metadata": {},
   "outputs": [
    {
     "data": {
      "text/plain": [
       "array(['New South Wales', 'QLD', 'VIC', 'NSW', 'Victoria'], dtype=object)"
      ]
     },
     "execution_count": 51,
     "metadata": {},
     "output_type": "execute_result"
    }
   ],
   "source": [
    "df2['state'].unique()"
   ]
  },
  {
   "cell_type": "code",
   "execution_count": 52,
   "id": "7f345a90",
   "metadata": {},
   "outputs": [
    {
     "data": {
      "text/plain": [
       "NSW                2054\n",
       "VIC                 939\n",
       "QLD                 838\n",
       "New South Wales      86\n",
       "Victoria             82\n",
       "Name: state, dtype: int64"
      ]
     },
     "execution_count": 52,
     "metadata": {},
     "output_type": "execute_result"
    }
   ],
   "source": [
    "df2['state'].value_counts()"
   ]
  },
  {
   "cell_type": "code",
   "execution_count": 53,
   "id": "d848b953",
   "metadata": {},
   "outputs": [],
   "source": [
    "##Keeping all State names in common format\n",
    "df2['state'] = df2['state'].replace('New South Wales', 'NSW').replace('Victoria', 'VIC').replace('Queensland', 'QLD')"
   ]
  },
  {
   "cell_type": "code",
   "execution_count": 54,
   "id": "266f0cf3",
   "metadata": {},
   "outputs": [
    {
     "data": {
      "text/plain": [
       "NSW    2140\n",
       "VIC    1021\n",
       "QLD     838\n",
       "Name: state, dtype: int64"
      ]
     },
     "execution_count": 54,
     "metadata": {},
     "output_type": "execute_result"
    }
   ],
   "source": [
    "df2['state'].value_counts()"
   ]
  },
  {
   "cell_type": "code",
   "execution_count": 55,
   "id": "d7ac504f",
   "metadata": {},
   "outputs": [
    {
     "data": {
      "text/plain": [
       "0"
      ]
     },
     "execution_count": 55,
     "metadata": {},
     "output_type": "execute_result"
    }
   ],
   "source": [
    "df2['state'].isnull().sum()"
   ]
  },
  {
   "cell_type": "code",
   "execution_count": 56,
   "id": "23a05305",
   "metadata": {},
   "outputs": [
    {
     "data": {
      "text/plain": [
       "array(['Australia'], dtype=object)"
      ]
     },
     "execution_count": 56,
     "metadata": {},
     "output_type": "execute_result"
    }
   ],
   "source": [
    "df2['country'].unique()"
   ]
  },
  {
   "cell_type": "code",
   "execution_count": 57,
   "id": "a0895965",
   "metadata": {},
   "outputs": [
    {
     "data": {
      "text/plain": [
       "0"
      ]
     },
     "execution_count": 57,
     "metadata": {},
     "output_type": "execute_result"
    }
   ],
   "source": [
    "df2['country'].isnull().sum()"
   ]
  },
  {
   "cell_type": "code",
   "execution_count": 58,
   "id": "91b4564d",
   "metadata": {},
   "outputs": [
    {
     "data": {
      "text/plain": [
       "0"
      ]
     },
     "execution_count": 58,
     "metadata": {},
     "output_type": "execute_result"
    }
   ],
   "source": [
    "df2['property_valuation'].isnull().sum()"
   ]
  },
  {
   "cell_type": "code",
   "execution_count": 59,
   "id": "ba58f2fa",
   "metadata": {},
   "outputs": [
    {
     "data": {
      "text/plain": [
       "array([10,  9,  4, 12,  8,  6,  7,  3,  5, 11,  1,  2], dtype=int64)"
      ]
     },
     "execution_count": 59,
     "metadata": {},
     "output_type": "execute_result"
    }
   ],
   "source": [
    "df2['property_valuation'].unique()"
   ]
  },
  {
   "cell_type": "code",
   "execution_count": 60,
   "id": "d1bdd936",
   "metadata": {},
   "outputs": [
    {
     "data": {
      "text/plain": [
       "9     647\n",
       "8     646\n",
       "10    577\n",
       "7     493\n",
       "11    281\n",
       "6     238\n",
       "5     225\n",
       "4     214\n",
       "12    195\n",
       "3     186\n",
       "1     154\n",
       "2     143\n",
       "Name: property_valuation, dtype: int64"
      ]
     },
     "execution_count": 60,
     "metadata": {},
     "output_type": "execute_result"
    }
   ],
   "source": [
    "df2['property_valuation'].value_counts()"
   ]
  },
  {
   "cell_type": "code",
   "execution_count": 61,
   "id": "f6127b03",
   "metadata": {},
   "outputs": [],
   "source": [
    "df2.to_csv('C:/Users/OMKAR/Desktop/Practice/KPMG/Cleaned/CustomerAddress.csv', index = False)"
   ]
  },
  {
   "cell_type": "markdown",
   "id": "73c0addf",
   "metadata": {},
   "source": [
    "## Exploring NewCustomersList Dataset\n"
   ]
  },
  {
   "cell_type": "code",
   "execution_count": 62,
   "id": "e67aa396",
   "metadata": {},
   "outputs": [
    {
     "data": {
      "text/html": [
       "<div>\n",
       "<style scoped>\n",
       "    .dataframe tbody tr th:only-of-type {\n",
       "        vertical-align: middle;\n",
       "    }\n",
       "\n",
       "    .dataframe tbody tr th {\n",
       "        vertical-align: top;\n",
       "    }\n",
       "\n",
       "    .dataframe thead th {\n",
       "        text-align: right;\n",
       "    }\n",
       "</style>\n",
       "<table border=\"1\" class=\"dataframe\">\n",
       "  <thead>\n",
       "    <tr style=\"text-align: right;\">\n",
       "      <th></th>\n",
       "      <th>first_name</th>\n",
       "      <th>last_name</th>\n",
       "      <th>gender</th>\n",
       "      <th>past_3_years_bike_related_purchases</th>\n",
       "      <th>DOB</th>\n",
       "      <th>job_title</th>\n",
       "      <th>job_industry_category</th>\n",
       "      <th>wealth_segment</th>\n",
       "      <th>deceased_indicator</th>\n",
       "      <th>owns_car</th>\n",
       "      <th>...</th>\n",
       "      <th>state</th>\n",
       "      <th>country</th>\n",
       "      <th>property_valuation</th>\n",
       "      <th>Unnamed: 16</th>\n",
       "      <th>Unnamed: 17</th>\n",
       "      <th>Unnamed: 18</th>\n",
       "      <th>Unnamed: 19</th>\n",
       "      <th>Unnamed: 20</th>\n",
       "      <th>Rank</th>\n",
       "      <th>Value</th>\n",
       "    </tr>\n",
       "  </thead>\n",
       "  <tbody>\n",
       "    <tr>\n",
       "      <th>0</th>\n",
       "      <td>Chickie</td>\n",
       "      <td>Brister</td>\n",
       "      <td>Male</td>\n",
       "      <td>86</td>\n",
       "      <td>12-07-1957</td>\n",
       "      <td>General Manager</td>\n",
       "      <td>Manufacturing</td>\n",
       "      <td>Mass Customer</td>\n",
       "      <td>N</td>\n",
       "      <td>Yes</td>\n",
       "      <td>...</td>\n",
       "      <td>QLD</td>\n",
       "      <td>Australia</td>\n",
       "      <td>6</td>\n",
       "      <td>0.83</td>\n",
       "      <td>1.0375</td>\n",
       "      <td>1.296875</td>\n",
       "      <td>1.102344</td>\n",
       "      <td>1</td>\n",
       "      <td>1</td>\n",
       "      <td>1.718750</td>\n",
       "    </tr>\n",
       "    <tr>\n",
       "      <th>1</th>\n",
       "      <td>Morly</td>\n",
       "      <td>Genery</td>\n",
       "      <td>Male</td>\n",
       "      <td>69</td>\n",
       "      <td>22-03-1970</td>\n",
       "      <td>Structural Engineer</td>\n",
       "      <td>Property</td>\n",
       "      <td>Mass Customer</td>\n",
       "      <td>N</td>\n",
       "      <td>No</td>\n",
       "      <td>...</td>\n",
       "      <td>NSW</td>\n",
       "      <td>Australia</td>\n",
       "      <td>11</td>\n",
       "      <td>0.93</td>\n",
       "      <td>0.9300</td>\n",
       "      <td>1.162500</td>\n",
       "      <td>0.988125</td>\n",
       "      <td>1</td>\n",
       "      <td>1</td>\n",
       "      <td>1.718750</td>\n",
       "    </tr>\n",
       "    <tr>\n",
       "      <th>2</th>\n",
       "      <td>Ardelis</td>\n",
       "      <td>Forrester</td>\n",
       "      <td>Female</td>\n",
       "      <td>10</td>\n",
       "      <td>28-08-1974</td>\n",
       "      <td>Senior Cost Accountant</td>\n",
       "      <td>Financial Services</td>\n",
       "      <td>Affluent Customer</td>\n",
       "      <td>N</td>\n",
       "      <td>No</td>\n",
       "      <td>...</td>\n",
       "      <td>VIC</td>\n",
       "      <td>Australia</td>\n",
       "      <td>5</td>\n",
       "      <td>0.96</td>\n",
       "      <td>0.9600</td>\n",
       "      <td>0.960000</td>\n",
       "      <td>0.960000</td>\n",
       "      <td>1</td>\n",
       "      <td>1</td>\n",
       "      <td>1.718750</td>\n",
       "    </tr>\n",
       "    <tr>\n",
       "      <th>3</th>\n",
       "      <td>Lucine</td>\n",
       "      <td>Stutt</td>\n",
       "      <td>Female</td>\n",
       "      <td>64</td>\n",
       "      <td>28-01-1979</td>\n",
       "      <td>Account Representative III</td>\n",
       "      <td>Manufacturing</td>\n",
       "      <td>Affluent Customer</td>\n",
       "      <td>N</td>\n",
       "      <td>Yes</td>\n",
       "      <td>...</td>\n",
       "      <td>QLD</td>\n",
       "      <td>Australia</td>\n",
       "      <td>1</td>\n",
       "      <td>0.99</td>\n",
       "      <td>1.2375</td>\n",
       "      <td>1.237500</td>\n",
       "      <td>1.237500</td>\n",
       "      <td>4</td>\n",
       "      <td>4</td>\n",
       "      <td>1.703125</td>\n",
       "    </tr>\n",
       "    <tr>\n",
       "      <th>4</th>\n",
       "      <td>Melinda</td>\n",
       "      <td>Hadlee</td>\n",
       "      <td>Female</td>\n",
       "      <td>34</td>\n",
       "      <td>21-09-1965</td>\n",
       "      <td>Financial Analyst</td>\n",
       "      <td>Financial Services</td>\n",
       "      <td>Affluent Customer</td>\n",
       "      <td>N</td>\n",
       "      <td>No</td>\n",
       "      <td>...</td>\n",
       "      <td>NSW</td>\n",
       "      <td>Australia</td>\n",
       "      <td>9</td>\n",
       "      <td>0.72</td>\n",
       "      <td>0.7200</td>\n",
       "      <td>0.900000</td>\n",
       "      <td>0.900000</td>\n",
       "      <td>4</td>\n",
       "      <td>4</td>\n",
       "      <td>1.703125</td>\n",
       "    </tr>\n",
       "  </tbody>\n",
       "</table>\n",
       "<p>5 rows × 23 columns</p>\n",
       "</div>"
      ],
      "text/plain": [
       "  first_name  last_name  gender  past_3_years_bike_related_purchases  \\\n",
       "0    Chickie    Brister    Male                                   86   \n",
       "1      Morly     Genery    Male                                   69   \n",
       "2    Ardelis  Forrester  Female                                   10   \n",
       "3     Lucine      Stutt  Female                                   64   \n",
       "4    Melinda     Hadlee  Female                                   34   \n",
       "\n",
       "          DOB                   job_title job_industry_category  \\\n",
       "0  12-07-1957             General Manager         Manufacturing   \n",
       "1  22-03-1970         Structural Engineer              Property   \n",
       "2  28-08-1974      Senior Cost Accountant    Financial Services   \n",
       "3  28-01-1979  Account Representative III         Manufacturing   \n",
       "4  21-09-1965           Financial Analyst    Financial Services   \n",
       "\n",
       "      wealth_segment deceased_indicator owns_car  ...  state    country  \\\n",
       "0      Mass Customer                  N      Yes  ...    QLD  Australia   \n",
       "1      Mass Customer                  N       No  ...    NSW  Australia   \n",
       "2  Affluent Customer                  N       No  ...    VIC  Australia   \n",
       "3  Affluent Customer                  N      Yes  ...    QLD  Australia   \n",
       "4  Affluent Customer                  N       No  ...    NSW  Australia   \n",
       "\n",
       "   property_valuation Unnamed: 16 Unnamed: 17  Unnamed: 18  Unnamed: 19  \\\n",
       "0                   6        0.83      1.0375     1.296875     1.102344   \n",
       "1                  11        0.93      0.9300     1.162500     0.988125   \n",
       "2                   5        0.96      0.9600     0.960000     0.960000   \n",
       "3                   1        0.99      1.2375     1.237500     1.237500   \n",
       "4                   9        0.72      0.7200     0.900000     0.900000   \n",
       "\n",
       "   Unnamed: 20  Rank     Value  \n",
       "0            1     1  1.718750  \n",
       "1            1     1  1.718750  \n",
       "2            1     1  1.718750  \n",
       "3            4     4  1.703125  \n",
       "4            4     4  1.703125  \n",
       "\n",
       "[5 rows x 23 columns]"
      ]
     },
     "execution_count": 62,
     "metadata": {},
     "output_type": "execute_result"
    }
   ],
   "source": [
    "df3.head()"
   ]
  },
  {
   "cell_type": "code",
   "execution_count": 63,
   "id": "7275fac6",
   "metadata": {},
   "outputs": [
    {
     "name": "stdout",
     "output_type": "stream",
     "text": [
      "<class 'pandas.core.frame.DataFrame'>\n",
      "RangeIndex: 1000 entries, 0 to 999\n",
      "Data columns (total 23 columns):\n",
      " #   Column                               Non-Null Count  Dtype  \n",
      "---  ------                               --------------  -----  \n",
      " 0   first_name                           1000 non-null   object \n",
      " 1   last_name                            971 non-null    object \n",
      " 2   gender                               1000 non-null   object \n",
      " 3   past_3_years_bike_related_purchases  1000 non-null   int64  \n",
      " 4   DOB                                  983 non-null    object \n",
      " 5   job_title                            894 non-null    object \n",
      " 6   job_industry_category                835 non-null    object \n",
      " 7   wealth_segment                       1000 non-null   object \n",
      " 8   deceased_indicator                   1000 non-null   object \n",
      " 9   owns_car                             1000 non-null   object \n",
      " 10  tenure                               1000 non-null   int64  \n",
      " 11  address                              1000 non-null   object \n",
      " 12  postcode                             1000 non-null   int64  \n",
      " 13  state                                1000 non-null   object \n",
      " 14  country                              1000 non-null   object \n",
      " 15  property_valuation                   1000 non-null   int64  \n",
      " 16  Unnamed: 16                          1000 non-null   float64\n",
      " 17  Unnamed: 17                          1000 non-null   float64\n",
      " 18  Unnamed: 18                          1000 non-null   float64\n",
      " 19  Unnamed: 19                          1000 non-null   float64\n",
      " 20  Unnamed: 20                          1000 non-null   int64  \n",
      " 21  Rank                                 1000 non-null   int64  \n",
      " 22  Value                                1000 non-null   float64\n",
      "dtypes: float64(5), int64(6), object(12)\n",
      "memory usage: 179.8+ KB\n"
     ]
    }
   ],
   "source": [
    "df3.info()"
   ]
  },
  {
   "cell_type": "code",
   "execution_count": 64,
   "id": "b9e1f8d0",
   "metadata": {},
   "outputs": [
    {
     "data": {
      "text/plain": [
       "(1000, 23)"
      ]
     },
     "execution_count": 64,
     "metadata": {},
     "output_type": "execute_result"
    }
   ],
   "source": [
    "df3.shape"
   ]
  },
  {
   "cell_type": "code",
   "execution_count": 65,
   "id": "1e4005d2",
   "metadata": {},
   "outputs": [
    {
     "data": {
      "text/plain": [
       "first_name                               0\n",
       "last_name                               29\n",
       "gender                                   0\n",
       "past_3_years_bike_related_purchases      0\n",
       "DOB                                     17\n",
       "job_title                              106\n",
       "job_industry_category                  165\n",
       "wealth_segment                           0\n",
       "deceased_indicator                       0\n",
       "owns_car                                 0\n",
       "tenure                                   0\n",
       "address                                  0\n",
       "postcode                                 0\n",
       "state                                    0\n",
       "country                                  0\n",
       "property_valuation                       0\n",
       "Unnamed: 16                              0\n",
       "Unnamed: 17                              0\n",
       "Unnamed: 18                              0\n",
       "Unnamed: 19                              0\n",
       "Unnamed: 20                              0\n",
       "Rank                                     0\n",
       "Value                                    0\n",
       "dtype: int64"
      ]
     },
     "execution_count": 65,
     "metadata": {},
     "output_type": "execute_result"
    }
   ],
   "source": [
    "df3.isnull().sum()\n"
   ]
  },
  {
   "cell_type": "code",
   "execution_count": 66,
   "id": "a5289293",
   "metadata": {},
   "outputs": [
    {
     "data": {
      "text/plain": [
       "0"
      ]
     },
     "execution_count": 66,
     "metadata": {},
     "output_type": "execute_result"
    }
   ],
   "source": [
    "df3.duplicated().sum()"
   ]
  },
  {
   "cell_type": "code",
   "execution_count": 67,
   "id": "515e7e73",
   "metadata": {},
   "outputs": [
    {
     "data": {
      "text/plain": [
       "first_name                              940\n",
       "last_name                               961\n",
       "gender                                    3\n",
       "past_3_years_bike_related_purchases     100\n",
       "DOB                                     958\n",
       "job_title                               184\n",
       "job_industry_category                     9\n",
       "wealth_segment                            3\n",
       "deceased_indicator                        1\n",
       "owns_car                                  2\n",
       "tenure                                   23\n",
       "address                                1000\n",
       "postcode                                522\n",
       "state                                     3\n",
       "country                                   1\n",
       "property_valuation                       12\n",
       "Unnamed: 16                              71\n",
       "Unnamed: 17                             129\n",
       "Unnamed: 18                             185\n",
       "Unnamed: 19                             321\n",
       "Unnamed: 20                             324\n",
       "Rank                                    324\n",
       "Value                                   319\n",
       "dtype: int64"
      ]
     },
     "execution_count": 67,
     "metadata": {},
     "output_type": "execute_result"
    }
   ],
   "source": [
    "df3.nunique()"
   ]
  },
  {
   "cell_type": "markdown",
   "id": "8831dfb7",
   "metadata": {},
   "source": [
    "### Exploring columns"
   ]
  },
  {
   "cell_type": "code",
   "execution_count": 68,
   "id": "f51064df",
   "metadata": {},
   "outputs": [
    {
     "data": {
      "text/plain": [
       "Index(['first_name', 'last_name', 'gender',\n",
       "       'past_3_years_bike_related_purchases', 'DOB', 'job_title',\n",
       "       'job_industry_category', 'wealth_segment', 'deceased_indicator',\n",
       "       'owns_car', 'tenure', 'address', 'postcode', 'state', 'country',\n",
       "       'property_valuation', 'Unnamed: 16', 'Unnamed: 17', 'Unnamed: 18',\n",
       "       'Unnamed: 19', 'Unnamed: 20', 'Rank', 'Value'],\n",
       "      dtype='object')"
      ]
     },
     "execution_count": 68,
     "metadata": {},
     "output_type": "execute_result"
    }
   ],
   "source": [
    "\n",
    "\n",
    "\n",
    "df3.columns"
   ]
  },
  {
   "cell_type": "code",
   "execution_count": 69,
   "id": "286bc96a",
   "metadata": {},
   "outputs": [
    {
     "data": {
      "text/plain": [
       "0"
      ]
     },
     "execution_count": 69,
     "metadata": {},
     "output_type": "execute_result"
    }
   ],
   "source": [
    "df3['first_name'].isnull().sum()"
   ]
  },
  {
   "cell_type": "code",
   "execution_count": 70,
   "id": "e7a662db",
   "metadata": {},
   "outputs": [
    {
     "data": {
      "text/plain": [
       "29"
      ]
     },
     "execution_count": 70,
     "metadata": {},
     "output_type": "execute_result"
    }
   ],
   "source": [
    "df3['last_name'].isnull().sum()"
   ]
  },
  {
   "cell_type": "code",
   "execution_count": 71,
   "id": "578db742",
   "metadata": {},
   "outputs": [
    {
     "data": {
      "text/plain": [
       "0"
      ]
     },
     "execution_count": 71,
     "metadata": {},
     "output_type": "execute_result"
    }
   ],
   "source": [
    "df3['gender'].isnull().sum()"
   ]
  },
  {
   "cell_type": "code",
   "execution_count": 72,
   "id": "a5e7a719",
   "metadata": {},
   "outputs": [
    {
     "data": {
      "text/plain": [
       "Female    513\n",
       "Male      470\n",
       "U          17\n",
       "Name: gender, dtype: int64"
      ]
     },
     "execution_count": 72,
     "metadata": {},
     "output_type": "execute_result"
    }
   ],
   "source": [
    "df3['gender'].value_counts()"
   ]
  },
  {
   "cell_type": "code",
   "execution_count": 73,
   "id": "62579893",
   "metadata": {},
   "outputs": [],
   "source": [
    "df3['gender'] = df3['gender'].replace('U', 'Unspecified')"
   ]
  },
  {
   "cell_type": "code",
   "execution_count": 74,
   "id": "234ac2e5",
   "metadata": {},
   "outputs": [
    {
     "data": {
      "text/plain": [
       "Female         513\n",
       "Male           470\n",
       "Unspecified     17\n",
       "Name: gender, dtype: int64"
      ]
     },
     "execution_count": 74,
     "metadata": {},
     "output_type": "execute_result"
    }
   ],
   "source": [
    "df3['gender'].value_counts()"
   ]
  },
  {
   "cell_type": "code",
   "execution_count": 78,
   "id": "c845d65a",
   "metadata": {},
   "outputs": [],
   "source": [
    "df3['DOB'] = pd.to_datetime(df3['DOB'])"
   ]
  },
  {
   "cell_type": "code",
   "execution_count": 81,
   "id": "4216e129",
   "metadata": {},
   "outputs": [],
   "source": [
    "a  = df3['DOB'].dtype"
   ]
  },
  {
   "cell_type": "code",
   "execution_count": 82,
   "id": "9aadb390",
   "metadata": {},
   "outputs": [
    {
     "name": "stdout",
     "output_type": "stream",
     "text": [
      "datetime64[ns]\n"
     ]
    }
   ],
   "source": [
    "print(a)"
   ]
  },
  {
   "cell_type": "code",
   "execution_count": 83,
   "id": "2da8654a",
   "metadata": {},
   "outputs": [
    {
     "data": {
      "text/plain": [
       "1998-05-02    2\n",
       "1978-01-15    2\n",
       "1977-08-11    2\n",
       "1951-11-28    2\n",
       "1979-07-28    2\n",
       "             ..\n",
       "1945-08-08    1\n",
       "1943-08-27    1\n",
       "1999-10-24    1\n",
       "1976-01-24    1\n",
       "1955-02-10    1\n",
       "Name: DOB, Length: 958, dtype: int64"
      ]
     },
     "execution_count": 83,
     "metadata": {},
     "output_type": "execute_result"
    }
   ],
   "source": [
    "df3['DOB'].value_counts()"
   ]
  },
  {
   "cell_type": "code",
   "execution_count": 89,
   "id": "5230395c",
   "metadata": {},
   "outputs": [
    {
     "data": {
      "text/plain": [
       "17"
      ]
     },
     "execution_count": 89,
     "metadata": {},
     "output_type": "execute_result"
    }
   ],
   "source": [
    "df3['DOB'].isnull().sum()"
   ]
  },
  {
   "cell_type": "code",
   "execution_count": 91,
   "id": "95f47137",
   "metadata": {},
   "outputs": [],
   "source": [
    "df3['DOB'] = df3['DOB'].fillna('not recorded')"
   ]
  },
  {
   "cell_type": "code",
   "execution_count": 92,
   "id": "aa692f13",
   "metadata": {},
   "outputs": [
    {
     "data": {
      "text/plain": [
       "0"
      ]
     },
     "execution_count": 92,
     "metadata": {},
     "output_type": "execute_result"
    }
   ],
   "source": [
    "df3['DOB'].isnull().sum()"
   ]
  },
  {
   "cell_type": "code",
   "execution_count": 93,
   "id": "f6029278",
   "metadata": {},
   "outputs": [
    {
     "data": {
      "text/plain": [
       "Index(['first_name', 'last_name', 'gender',\n",
       "       'past_3_years_bike_related_purchases', 'DOB', 'job_title',\n",
       "       'job_industry_category', 'wealth_segment', 'deceased_indicator',\n",
       "       'owns_car', 'tenure', 'address', 'postcode', 'state', 'country',\n",
       "       'property_valuation', 'Unnamed: 16', 'Unnamed: 17', 'Unnamed: 18',\n",
       "       'Unnamed: 19', 'Unnamed: 20', 'Rank', 'Value'],\n",
       "      dtype='object')"
      ]
     },
     "execution_count": 93,
     "metadata": {},
     "output_type": "execute_result"
    }
   ],
   "source": [
    "df3.columns"
   ]
  },
  {
   "cell_type": "code",
   "execution_count": 95,
   "id": "155c5909",
   "metadata": {},
   "outputs": [
    {
     "data": {
      "text/plain": [
       "0"
      ]
     },
     "execution_count": 95,
     "metadata": {},
     "output_type": "execute_result"
    }
   ],
   "source": [
    "df3['past_3_years_bike_related_purchases'].isnull().sum()"
   ]
  },
  {
   "cell_type": "code",
   "execution_count": 97,
   "id": "64c36e39",
   "metadata": {},
   "outputs": [
    {
     "data": {
      "text/plain": [
       "60    20\n",
       "59    18\n",
       "42    17\n",
       "70    17\n",
       "11    16\n",
       "      ..\n",
       "19     5\n",
       "9      5\n",
       "92     5\n",
       "85     4\n",
       "20     3\n",
       "Name: past_3_years_bike_related_purchases, Length: 100, dtype: int64"
      ]
     },
     "execution_count": 97,
     "metadata": {},
     "output_type": "execute_result"
    }
   ],
   "source": [
    "df3['past_3_years_bike_related_purchases'].value_counts()"
   ]
  },
  {
   "cell_type": "code",
   "execution_count": 99,
   "id": "3f0778f7",
   "metadata": {},
   "outputs": [
    {
     "data": {
      "text/plain": [
       "106"
      ]
     },
     "execution_count": 99,
     "metadata": {},
     "output_type": "execute_result"
    }
   ],
   "source": [
    "df3['job_title'].isnull().sum()"
   ]
  },
  {
   "cell_type": "code",
   "execution_count": 100,
   "id": "bfad748d",
   "metadata": {},
   "outputs": [],
   "source": [
    "df3['job_title'] = df3['job_title'].fillna('not recorded')"
   ]
  },
  {
   "cell_type": "code",
   "execution_count": 101,
   "id": "c0136bd1",
   "metadata": {},
   "outputs": [
    {
     "data": {
      "text/plain": [
       "0"
      ]
     },
     "execution_count": 101,
     "metadata": {},
     "output_type": "execute_result"
    }
   ],
   "source": [
    "df3['job_title'].isnull().sum()"
   ]
  },
  {
   "cell_type": "code",
   "execution_count": 103,
   "id": "a0657311",
   "metadata": {},
   "outputs": [
    {
     "data": {
      "text/plain": [
       "165"
      ]
     },
     "execution_count": 103,
     "metadata": {},
     "output_type": "execute_result"
    }
   ],
   "source": [
    "df3['job_industry_category'].isnull().sum()"
   ]
  },
  {
   "cell_type": "code",
   "execution_count": 104,
   "id": "017a7d49",
   "metadata": {},
   "outputs": [
    {
     "data": {
      "text/plain": [
       "Financial Services    203\n",
       "Manufacturing         199\n",
       "Health                152\n",
       "Retail                 78\n",
       "Property               64\n",
       "IT                     51\n",
       "Entertainment          37\n",
       "Argiculture            26\n",
       "Telecommunications     25\n",
       "Name: job_industry_category, dtype: int64"
      ]
     },
     "execution_count": 104,
     "metadata": {},
     "output_type": "execute_result"
    }
   ],
   "source": [
    "df3['job_industry_category'].value_counts()"
   ]
  },
  {
   "cell_type": "code",
   "execution_count": 105,
   "id": "8f9c7a0c",
   "metadata": {},
   "outputs": [],
   "source": [
    "df3['job_industry_category'] = df3['job_industry_category'].replace('Argiculture', 'Agriculture')"
   ]
  },
  {
   "cell_type": "code",
   "execution_count": 106,
   "id": "63f68176",
   "metadata": {},
   "outputs": [
    {
     "data": {
      "text/plain": [
       "Financial Services    203\n",
       "Manufacturing         199\n",
       "Health                152\n",
       "Retail                 78\n",
       "Property               64\n",
       "IT                     51\n",
       "Entertainment          37\n",
       "Agriculture            26\n",
       "Telecommunications     25\n",
       "Name: job_industry_category, dtype: int64"
      ]
     },
     "execution_count": 106,
     "metadata": {},
     "output_type": "execute_result"
    }
   ],
   "source": [
    "df3['job_industry_category'].value_counts()"
   ]
  },
  {
   "cell_type": "code",
   "execution_count": 109,
   "id": "1c776bd5",
   "metadata": {},
   "outputs": [
    {
     "data": {
      "text/plain": [
       "0"
      ]
     },
     "execution_count": 109,
     "metadata": {},
     "output_type": "execute_result"
    }
   ],
   "source": [
    "df3['wealth_segment'].isnull().sum()"
   ]
  },
  {
   "cell_type": "code",
   "execution_count": 110,
   "id": "83cd8e81",
   "metadata": {},
   "outputs": [
    {
     "data": {
      "text/plain": [
       "Mass Customer        508\n",
       "High Net Worth       251\n",
       "Affluent Customer    241\n",
       "Name: wealth_segment, dtype: int64"
      ]
     },
     "execution_count": 110,
     "metadata": {},
     "output_type": "execute_result"
    }
   ],
   "source": [
    "df3['wealth_segment'].value_counts()"
   ]
  },
  {
   "cell_type": "code",
   "execution_count": 112,
   "id": "3faa381b",
   "metadata": {},
   "outputs": [
    {
     "data": {
      "text/plain": [
       "0"
      ]
     },
     "execution_count": 112,
     "metadata": {},
     "output_type": "execute_result"
    }
   ],
   "source": [
    "df3['deceased_indicator'].isnull().sum()"
   ]
  },
  {
   "cell_type": "code",
   "execution_count": 113,
   "id": "91293864",
   "metadata": {},
   "outputs": [
    {
     "data": {
      "text/plain": [
       "N    1000\n",
       "Name: deceased_indicator, dtype: int64"
      ]
     },
     "execution_count": 113,
     "metadata": {},
     "output_type": "execute_result"
    }
   ],
   "source": [
    "df3['deceased_indicator'].value_counts()"
   ]
  },
  {
   "cell_type": "code",
   "execution_count": 114,
   "id": "2bf6160c",
   "metadata": {},
   "outputs": [],
   "source": [
    "df3['deceased_indicator'] = df3['deceased_indicator'].replace('N', 'Non Deceased') "
   ]
  },
  {
   "cell_type": "code",
   "execution_count": 115,
   "id": "9695bd79",
   "metadata": {},
   "outputs": [
    {
     "data": {
      "text/plain": [
       "Non Deceased    1000\n",
       "Name: deceased_indicator, dtype: int64"
      ]
     },
     "execution_count": 115,
     "metadata": {},
     "output_type": "execute_result"
    }
   ],
   "source": [
    "df3['deceased_indicator'].value_counts()"
   ]
  },
  {
   "cell_type": "code",
   "execution_count": 118,
   "id": "ff2d2e7f",
   "metadata": {},
   "outputs": [
    {
     "data": {
      "text/plain": [
       "0"
      ]
     },
     "execution_count": 118,
     "metadata": {},
     "output_type": "execute_result"
    }
   ],
   "source": [
    "df3['owns_car'].isnull().sum()"
   ]
  },
  {
   "cell_type": "code",
   "execution_count": 119,
   "id": "84210dea",
   "metadata": {},
   "outputs": [
    {
     "data": {
      "text/plain": [
       "No     507\n",
       "Yes    493\n",
       "Name: owns_car, dtype: int64"
      ]
     },
     "execution_count": 119,
     "metadata": {},
     "output_type": "execute_result"
    }
   ],
   "source": [
    "df3['owns_car'].value_counts()"
   ]
  },
  {
   "cell_type": "code",
   "execution_count": 121,
   "id": "4a97a664",
   "metadata": {},
   "outputs": [
    {
     "data": {
      "text/plain": [
       "0"
      ]
     },
     "execution_count": 121,
     "metadata": {},
     "output_type": "execute_result"
    }
   ],
   "source": [
    "\n",
    "df3['tenure'].isnull().sum()"
   ]
  },
  {
   "cell_type": "code",
   "execution_count": 122,
   "id": "11461747",
   "metadata": {},
   "outputs": [
    {
     "data": {
      "text/plain": [
       "9     79\n",
       "13    74\n",
       "11    68\n",
       "10    63\n",
       "12    61\n",
       "5     60\n",
       "7     60\n",
       "17    59\n",
       "15    58\n",
       "8     55\n",
       "14    54\n",
       "16    49\n",
       "6     45\n",
       "4     36\n",
       "18    36\n",
       "19    34\n",
       "3     26\n",
       "21    24\n",
       "20    22\n",
       "2     15\n",
       "22    12\n",
       "1      8\n",
       "0      2\n",
       "Name: tenure, dtype: int64"
      ]
     },
     "execution_count": 122,
     "metadata": {},
     "output_type": "execute_result"
    }
   ],
   "source": [
    "df3['tenure'].value_counts()"
   ]
  },
  {
   "cell_type": "code",
   "execution_count": 124,
   "id": "3529eea3",
   "metadata": {},
   "outputs": [
    {
     "data": {
      "text/plain": [
       "0"
      ]
     },
     "execution_count": 124,
     "metadata": {},
     "output_type": "execute_result"
    }
   ],
   "source": [
    "df3['address'].isnull().sum()"
   ]
  },
  {
   "cell_type": "code",
   "execution_count": 126,
   "id": "d1d85e21",
   "metadata": {},
   "outputs": [
    {
     "data": {
      "text/plain": [
       "1000"
      ]
     },
     "execution_count": 126,
     "metadata": {},
     "output_type": "execute_result"
    }
   ],
   "source": [
    "df3['address'].nunique()"
   ]
  },
  {
   "cell_type": "code",
   "execution_count": 127,
   "id": "5babbd8c",
   "metadata": {},
   "outputs": [
    {
     "data": {
      "text/plain": [
       "0"
      ]
     },
     "execution_count": 127,
     "metadata": {},
     "output_type": "execute_result"
    }
   ],
   "source": [
    "df3['address'].duplicated().sum()"
   ]
  },
  {
   "cell_type": "code",
   "execution_count": 128,
   "id": "ddb2fc66",
   "metadata": {},
   "outputs": [
    {
     "data": {
      "text/plain": [
       "0"
      ]
     },
     "execution_count": 128,
     "metadata": {},
     "output_type": "execute_result"
    }
   ],
   "source": [
    "df3['postcode'].isnull().sum()"
   ]
  },
  {
   "cell_type": "code",
   "execution_count": 130,
   "id": "1fd7b118",
   "metadata": {},
   "outputs": [
    {
     "data": {
      "text/plain": [
       "2145    9\n",
       "2232    9\n",
       "2750    7\n",
       "3977    7\n",
       "2148    7\n",
       "       ..\n",
       "2576    1\n",
       "2479    1\n",
       "3065    1\n",
       "2762    1\n",
       "4215    1\n",
       "Name: postcode, Length: 522, dtype: int64"
      ]
     },
     "execution_count": 130,
     "metadata": {},
     "output_type": "execute_result"
    }
   ],
   "source": [
    "df3['postcode'].value_counts()"
   ]
  },
  {
   "cell_type": "code",
   "execution_count": 132,
   "id": "e0486fd9",
   "metadata": {},
   "outputs": [
    {
     "data": {
      "text/plain": [
       "0      QLD\n",
       "1      NSW\n",
       "2      VIC\n",
       "3      QLD\n",
       "4      NSW\n",
       "      ... \n",
       "995    NSW\n",
       "996    NSW\n",
       "997    QLD\n",
       "998    QLD\n",
       "999    NSW\n",
       "Name: state, Length: 1000, dtype: object"
      ]
     },
     "execution_count": 132,
     "metadata": {},
     "output_type": "execute_result"
    }
   ],
   "source": [
    "df3['state']"
   ]
  },
  {
   "cell_type": "code",
   "execution_count": 133,
   "id": "686623d0",
   "metadata": {},
   "outputs": [
    {
     "data": {
      "text/plain": [
       "NSW    506\n",
       "VIC    266\n",
       "QLD    228\n",
       "Name: state, dtype: int64"
      ]
     },
     "execution_count": 133,
     "metadata": {},
     "output_type": "execute_result"
    }
   ],
   "source": [
    "df3['state'].value_counts()"
   ]
  },
  {
   "cell_type": "code",
   "execution_count": null,
   "id": "0cd310de",
   "metadata": {},
   "outputs": [],
   "source": []
  },
  {
   "cell_type": "code",
   "execution_count": null,
   "id": "7dfb6467",
   "metadata": {},
   "outputs": [],
   "source": []
  },
  {
   "cell_type": "code",
   "execution_count": null,
   "id": "3a16637d",
   "metadata": {},
   "outputs": [],
   "source": []
  },
  {
   "cell_type": "code",
   "execution_count": null,
   "id": "49a61bee",
   "metadata": {},
   "outputs": [],
   "source": []
  },
  {
   "cell_type": "code",
   "execution_count": null,
   "id": "7e152639",
   "metadata": {},
   "outputs": [],
   "source": []
  },
  {
   "cell_type": "code",
   "execution_count": null,
   "id": "5814cc0a",
   "metadata": {},
   "outputs": [],
   "source": []
  },
  {
   "cell_type": "code",
   "execution_count": null,
   "id": "efe961a6",
   "metadata": {},
   "outputs": [],
   "source": []
  },
  {
   "cell_type": "code",
   "execution_count": null,
   "id": "036931c7",
   "metadata": {},
   "outputs": [],
   "source": []
  },
  {
   "cell_type": "code",
   "execution_count": null,
   "id": "7d2354dc",
   "metadata": {},
   "outputs": [],
   "source": []
  },
  {
   "cell_type": "code",
   "execution_count": null,
   "id": "4ad14733",
   "metadata": {},
   "outputs": [],
   "source": []
  },
  {
   "cell_type": "code",
   "execution_count": null,
   "id": "c6ab5fbb",
   "metadata": {},
   "outputs": [],
   "source": []
  },
  {
   "cell_type": "code",
   "execution_count": null,
   "id": "72f2d833",
   "metadata": {},
   "outputs": [],
   "source": []
  },
  {
   "cell_type": "code",
   "execution_count": null,
   "id": "c031de2b",
   "metadata": {},
   "outputs": [],
   "source": []
  },
  {
   "cell_type": "code",
   "execution_count": null,
   "id": "d472c7f7",
   "metadata": {},
   "outputs": [],
   "source": []
  },
  {
   "cell_type": "code",
   "execution_count": null,
   "id": "5bfcac93",
   "metadata": {},
   "outputs": [],
   "source": []
  },
  {
   "cell_type": "code",
   "execution_count": null,
   "id": "c32fb21f",
   "metadata": {},
   "outputs": [],
   "source": []
  },
  {
   "cell_type": "code",
   "execution_count": null,
   "id": "b252a98c",
   "metadata": {},
   "outputs": [],
   "source": []
  },
  {
   "cell_type": "code",
   "execution_count": null,
   "id": "84914a79",
   "metadata": {},
   "outputs": [],
   "source": []
  },
  {
   "cell_type": "code",
   "execution_count": null,
   "id": "e908c157",
   "metadata": {},
   "outputs": [],
   "source": []
  }
 ],
 "metadata": {
  "kernelspec": {
   "display_name": "Python 3 (ipykernel)",
   "language": "python",
   "name": "python3"
  },
  "language_info": {
   "codemirror_mode": {
    "name": "ipython",
    "version": 3
   },
   "file_extension": ".py",
   "mimetype": "text/x-python",
   "name": "python",
   "nbconvert_exporter": "python",
   "pygments_lexer": "ipython3",
   "version": "3.9.7"
  }
 },
 "nbformat": 4,
 "nbformat_minor": 5
}
